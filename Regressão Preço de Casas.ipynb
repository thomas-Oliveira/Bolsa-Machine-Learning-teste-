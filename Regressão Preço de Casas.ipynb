{
 "cells": [
  {
   "cell_type": "markdown",
   "metadata": {},
   "source": [
    "# Problema de prever preço de casas usando o algoritmo de Regressão Linear\n",
    "\n",
    "O problema que vamos tratar é tentar definir o preço de um casa a partir do seu tamanho, usando o método de resolução Regressão Linear.\n",
    "\n",
    "Regressão Linear é usada para prever uma resposta quantitativa Y da variável preditora X supondo que essas duas variáveis tenham uma relação linear, ou seja, o algoritmo vai montar as relações de tamanho da casa com o preço, gerar uma reta passando por essas relações e partir dessa reta ele vai prever sobre uma casa nova não conhecida o preço dela."
   ]
  },
  {
   "cell_type": "code",
   "execution_count": 1,
   "metadata": {},
   "outputs": [],
   "source": [
    "from sklearn import linear_model as skln\n",
    "from matplotlib import pyplot as plt\n",
    "import pandas as pd\n",
    "import numpy as np"
   ]
  },
  {
   "cell_type": "markdown",
   "metadata": {},
   "source": [
    "### DataFrame contendo os dados de tamanho de casa e seus preços."
   ]
  },
  {
   "cell_type": "code",
   "execution_count": 33,
   "metadata": {
    "scrolled": true
   },
   "outputs": [
    {
     "name": "stdout",
     "output_type": "stream",
     "text": [
      "   Tamanho da casa em metros  Preço em dolar\n",
      "0                     426.72          245000\n",
      "1                     487.68          312000\n",
      "2                     518.16          279000\n",
      "3                     571.50          308000\n",
      "4                     335.28          199000\n",
      "5                     472.44          219000\n",
      "6                     716.28          405000\n",
      "7                     746.76          324000\n",
      "8                     434.34          319000\n",
      "9                     518.16          255000\n"
     ]
    }
   ],
   "source": [
    "casas = pd.DataFrame([[426.72, 245000],\n",
    "                     [487.68,  312000],\n",
    "                     [518.16,  279000], \n",
    "                     [571.5,   308000], \n",
    "                     [335.28,  199000], \n",
    "                     [472.44,  219000],\n",
    "                     [716.28,  405000],\n",
    "                     [746.76,  324000],\n",
    "                     [434.34,  319000],\n",
    "                     [518.16,  255000]], columns=['Tamanho da casa em metros', 'Preço em dolar'])\n",
    "print (casas)"
   ]
  },
  {
   "cell_type": "markdown",
   "metadata": {},
   "source": [
    "### Gráfico mostando a disperção dos dados"
   ]
  },
  {
   "cell_type": "code",
   "execution_count": 3,
   "metadata": {},
   "outputs": [
    {
     "data": {
      "text/plain": [
       "<matplotlib.axes._subplots.AxesSubplot at 0x1b6dc407358>"
      ]
     },
     "execution_count": 3,
     "metadata": {},
     "output_type": "execute_result"
    },
    {
     "data": {
      "image/png": "[encoded data removed]",
      "text/plain": [
       "<matplotlib.figure.Figure at 0x1b6d5e10978>"
      ]
     },
     "metadata": {},
     "output_type": "display_data"
    }
   ],
   "source": [
    "casas.plot.scatter(x = 'Tamanho da casa em metros', y = 'Preço em dolar', grid=1)"
   ]
  },
  {
   "cell_type": "markdown",
   "metadata": {},
   "source": [
    "#### Vamos dividir o tamanho das casas e o preço em vetores diferentes para separar as features dos resultados"
   ]
  },
  {
   "cell_type": "code",
   "execution_count": 4,
   "metadata": {},
   "outputs": [],
   "source": [
    "X = casas['Tamanho da casa em metros']\n",
    "y = casas['Preço em dolar']"
   ]
  },
  {
   "cell_type": "markdown",
   "metadata": {},
   "source": [
    "Para poder verificar se seu algoritmo esta prevendo os valores corretos temos que testar-lo de alguma forma. Uma forma que é bastante usada é dividir o seus dados, uma parte vai treinar o algoritmo e a outra você vai testa e comparar o resultados. \n",
    "\n",
    "Nesse exemplo vamos dividir 60% vai para teste e 40% vai para treino.\n"
   ]
  },
  {
   "cell_type": "markdown",
   "metadata": {},
   "source": [
    "#### Seprando as features em X_train para treinar o algortimo e X_test para testes.\n",
    "\n",
    "A função para treinar o algoritmo que será explicada mais a frente, recebe uma matriz como parametro das features. Como o X é um vetor, precisamos fazer o reshape que mantem as informações e apenas muda vetor para matriz."
   ]
  },
  {
   "cell_type": "code",
   "execution_count": 34,
   "metadata": {},
   "outputs": [],
   "source": [
    "X_train = X[:6]\n",
    "X_train = X_train.values.reshape([X_train.shape[0], 1])\n",
    "\n",
    "X_test = X[6:]\n",
    "X_test = X_test.values.reshape([X_test.shape[0], 1])"
   ]
  },
  {
   "cell_type": "markdown",
   "metadata": {},
   "source": [
    "#### Seprando os resultados em y_train e y_test\n",
    "\n",
    "A função para treinar o algoritmo recebe apenas um vetor como resultado, então não precisamos fazer alterações aqui"
   ]
  },
  {
   "cell_type": "code",
   "execution_count": 36,
   "metadata": {},
   "outputs": [],
   "source": [
    "y_train = y[:6]\n",
    "\n",
    "y_test = y[6:]"
   ]
  },
  {
   "cell_type": "markdown",
   "metadata": {},
   "source": [
    "#### Criamos um modelo de regressão linear\n",
    "\n",
    "usando a função sklearn.linear_model.LinearRegression()"
   ]
  },
  {
   "cell_type": "code",
   "execution_count": 37,
   "metadata": {},
   "outputs": [],
   "source": [
    "regressao = skln.LinearRegression()"
   ]
  },
  {
   "cell_type": "markdown",
   "metadata": {},
   "source": [
    "#### Treinamos o modelo\n",
    "\n",
    "usando modelo_que_criamos.fit(X,y) , sendo X uma matriz de feautres e y um vetor de respostas"
   ]
  },
  {
   "cell_type": "code",
   "execution_count": 39,
   "metadata": {},
   "outputs": [
    {
     "data": {
      "text/plain": [
       "LinearRegression(copy_X=True, fit_intercept=True, n_jobs=1, normalize=False)"
      ]
     },
     "execution_count": 39,
     "metadata": {},
     "output_type": "execute_result"
    }
   ],
   "source": [
    "regressao.fit(X_train, y_train)"
   ]
  },
  {
   "cell_type": "markdown",
   "metadata": {},
   "source": [
    "#### Testando o modelo\n",
    "\n",
    "usando modelo_que_criamos.prefict(X), sendo X as features"
   ]
  },
  {
   "cell_type": "code",
   "execution_count": 40,
   "metadata": {},
   "outputs": [],
   "source": [
    "y_pred = regressao.predict(X_test)"
   ]
  },
  {
   "cell_type": "markdown",
   "metadata": {},
   "source": [
    "### Comparando os resultados"
   ]
  },
  {
   "cell_type": "markdown",
   "metadata": {},
   "source": [
    "##### Com gráfico\n",
    "\n",
    "Sendo os pontinhos vermelhos o X_test e y_test e a reta azul representa o X_tes e y_pred"
   ]
  },
  {
   "cell_type": "code",
   "execution_count": 44,
   "metadata": {},
   "outputs": [
    {
     "data": {
      "text/plain": [
       "[<matplotlib.lines.Line2D at 0x1b6dd748a20>]"
      ]
     },
     "execution_count": 44,
     "metadata": {},
     "output_type": "execute_result"
    },
    {
     "data": {
      "image/png": "[encoded data removed]",
      "text/plain": [
       "<matplotlib.figure.Figure at 0x1b6dd748eb8>"
      ]
     },
     "metadata": {},
     "output_type": "display_data"
    }
   ],
   "source": [
    "plt.scatter(X_test, y_test,  color='red')\n",
    "plt.plot(X_test, y_pred, color='blue', linewidth=3)"
   ]
  },
  {
   "cell_type": "markdown",
   "metadata": {},
   "source": [
    "##### Com tabela\n",
    "\n",
    "Sendo a linha 0 o y_test e a linha 1 o y_pred"
   ]
  },
  {
   "cell_type": "code",
   "execution_count": 45,
   "metadata": {},
   "outputs": [
    {
     "data": {
      "text/html": [
       "<div>\n",
       "<style scoped>\n",
       "    .dataframe tbody tr th:only-of-type {\n",
       "        vertical-align: middle;\n",
       "    }\n",
       "\n",
       "    .dataframe tbody tr th {\n",
       "        vertical-align: top;\n",
       "    }\n",
       "\n",
       "    .dataframe thead th {\n",
       "        text-align: right;\n",
       "    }\n",
       "</style>\n",
       "<table border=\"1\" class=\"dataframe\">\n",
       "  <thead>\n",
       "    <tr style=\"text-align: right;\">\n",
       "      <th></th>\n",
       "      <th>0</th>\n",
       "      <th>1</th>\n",
       "      <th>2</th>\n",
       "      <th>3</th>\n",
       "    </tr>\n",
       "  </thead>\n",
       "  <tbody>\n",
       "    <tr>\n",
       "      <th>0</th>\n",
       "      <td>405000.000000</td>\n",
       "      <td>324000.000000</td>\n",
       "      <td>319000.000000</td>\n",
       "      <td>255000.000000</td>\n",
       "    </tr>\n",
       "    <tr>\n",
       "      <th>1</th>\n",
       "      <td>376646.108664</td>\n",
       "      <td>390961.527166</td>\n",
       "      <td>244228.487518</td>\n",
       "      <td>283595.888399</td>\n",
       "    </tr>\n",
       "  </tbody>\n",
       "</table>\n",
       "</div>"
      ],
      "text/plain": [
       "               0              1              2              3\n",
       "0  405000.000000  324000.000000  319000.000000  255000.000000\n",
       "1  376646.108664  390961.527166  244228.487518  283595.888399"
      ]
     },
     "execution_count": 45,
     "metadata": {},
     "output_type": "execute_result"
    }
   ],
   "source": [
    "pd.DataFrame([y_test.values, y_pred])"
   ]
  }
 ],
 "metadata": {
  "kernelspec": {
   "display_name": "Python 3",
   "language": "python",
   "name": "python3"
  },
  "language_info": {
   "codemirror_mode": {
    "name": "ipython",
    "version": 3
   },
   "file_extension": ".py",
   "mimetype": "text/x-python",
   "name": "python",
   "nbconvert_exporter": "python",
   "pygments_lexer": "ipython3",
   "version": "3.6.4"
  }
 },
 "nbformat": 4,
 "nbformat_minor": 2
}
